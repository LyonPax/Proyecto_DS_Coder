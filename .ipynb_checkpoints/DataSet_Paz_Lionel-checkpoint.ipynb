{
 "cells": [
  {
   "cell_type": "code",
   "execution_count": 2,
   "id": "a8669ba4",
   "metadata": {
    "colab": {
     "base_uri": "https://localhost:8080/"
    },
    "executionInfo": {
     "elapsed": 3791,
     "status": "ok",
     "timestamp": 1672270720057,
     "user": {
      "displayName": "Lionel Paz",
      "userId": "05738163298240521814"
     },
     "user_tz": 180
    },
    "id": "a8669ba4",
    "outputId": "7f18553f-1748-4636-c776-3dfeb14184e3"
   },
   "outputs": [
    {
     "name": "stdout",
     "output_type": "stream",
     "text": [
      "Requirement already satisfied: seaborn in c:\\users\\lyonpax\\anaconda3\\lib\\site-packages (0.11.2)\n",
      "Requirement already satisfied: scipy>=1.0 in c:\\users\\lyonpax\\anaconda3\\lib\\site-packages (from seaborn) (1.9.1)\n",
      "Requirement already satisfied: pandas>=0.23 in c:\\users\\lyonpax\\anaconda3\\lib\\site-packages (from seaborn) (1.4.4)\n",
      "Requirement already satisfied: matplotlib>=2.2 in c:\\users\\lyonpax\\anaconda3\\lib\\site-packages (from seaborn) (3.5.2)\n",
      "Requirement already satisfied: numpy>=1.15 in c:\\users\\lyonpax\\anaconda3\\lib\\site-packages (from seaborn) (1.21.5)\n",
      "Requirement already satisfied: kiwisolver>=1.0.1 in c:\\users\\lyonpax\\anaconda3\\lib\\site-packages (from matplotlib>=2.2->seaborn) (1.4.2)\n",
      "Requirement already satisfied: fonttools>=4.22.0 in c:\\users\\lyonpax\\anaconda3\\lib\\site-packages (from matplotlib>=2.2->seaborn) (4.25.0)\n",
      "Requirement already satisfied: python-dateutil>=2.7 in c:\\users\\lyonpax\\anaconda3\\lib\\site-packages (from matplotlib>=2.2->seaborn) (2.8.2)\n",
      "Requirement already satisfied: packaging>=20.0 in c:\\users\\lyonpax\\anaconda3\\lib\\site-packages (from matplotlib>=2.2->seaborn) (21.3)\n",
      "Requirement already satisfied: pyparsing>=2.2.1 in c:\\users\\lyonpax\\anaconda3\\lib\\site-packages (from matplotlib>=2.2->seaborn) (3.0.9)\n",
      "Requirement already satisfied: cycler>=0.10 in c:\\users\\lyonpax\\anaconda3\\lib\\site-packages (from matplotlib>=2.2->seaborn) (0.11.0)\n",
      "Requirement already satisfied: pillow>=6.2.0 in c:\\users\\lyonpax\\anaconda3\\lib\\site-packages (from matplotlib>=2.2->seaborn) (9.2.0)\n",
      "Requirement already satisfied: pytz>=2020.1 in c:\\users\\lyonpax\\anaconda3\\lib\\site-packages (from pandas>=0.23->seaborn) (2022.1)\n",
      "Requirement already satisfied: six>=1.5 in c:\\users\\lyonpax\\anaconda3\\lib\\site-packages (from python-dateutil>=2.7->matplotlib>=2.2->seaborn) (1.16.0)\n"
     ]
    }
   ],
   "source": [
    "!pip install seaborn\n",
    "import pandas as pd\n",
    "import numpy as np\n",
    "import seaborn as sns\n",
    "from matplotlib.pyplot import *"
   ]
  },
  {
   "cell_type": "code",
   "execution_count": 3,
   "id": "86cefffb",
   "metadata": {
    "executionInfo": {
     "elapsed": 2,
     "status": "ok",
     "timestamp": 1672271222917,
     "user": {
      "displayName": "Lionel Paz",
      "userId": "05738163298240521814"
     },
     "user_tz": 180
    },
    "id": "86cefffb"
   },
   "outputs": [],
   "source": [
    "#url_nba = 'https://drive.google.com/file/d/1dj5NgGsWgc6tac09X2O3EwbPZu4CrwGU/view'\n",
    "#path_nba = 'https://drive.google.com/uc?export=download&id='+ url_nba.split('/')[-2]\n",
    "#url_autos='https://drive.google.com/file/d/1WOaWmJjOG6SshLfKwexyP7R7Jjk9CO8M/view'\n",
    "#path_autos = 'https://drive.google.com/uc?export=download&id='+ url_autos.split('/')[-2]\n",
    "#url_postal2021='https://drive.google.com/file/d/1S9-X3l9nUAckCRDBBq7GJzsri_Zn3IgA/view'\n",
    "#path_postal2021= 'https://drive.google.com/uc?export=download&id='+ url_postal2021.split('/')[-2]\n"
   ]
  },
  {
   "cell_type": "code",
   "execution_count": 4,
   "id": "ed5dfbb0",
   "metadata": {
    "id": "ed5dfbb0",
    "scrolled": true
   },
   "outputs": [],
   "source": [
    "nba = pd.read_csv('DataSet/NBA Players.csv')\n",
    "autos=pd.read_csv('DataSet/AUTOS.csv')\n",
    "postal=pd.read_csv('DataSet/POSTAL 2021.csv', delimiter=\";\", encoding=\"latin-1\", low_memory=False)"
   ]
  },
  {
   "cell_type": "markdown",
   "id": "ecaadf44",
   "metadata": {
    "id": "ecaadf44"
   },
   "source": [
    "# DATA SET AUTOS : VARIABLES PARA ANALIZAR"
   ]
  },
  {
   "cell_type": "markdown",
   "id": "fbd63e23",
   "metadata": {
    "id": "fbd63e23"
   },
   "source": [
    "1. Relación entre los precios de los automóviles y la edad (año de registro) utilizando un modelo de regresión lineal para sugerir qué automóviles ofrecen la mejor relación calidad-precio.\n",
    "2. Predecir los tipos de vehículos en función de características como powerPS, precio, marca, etc.\n",
    "3. Comparar y contrastar los tipos de vendedores (particular frente a concesionarios) mediante el análisis de precios, ubicaciones de vendedores y otra información geográfica para brindar asesoramiento sobre qué tipo de vendedor ofrece las mejores ofertas para los clientes."
   ]
  },
  {
   "cell_type": "code",
   "execution_count": 5,
   "id": "79cbd434",
   "metadata": {
    "colab": {
     "base_uri": "https://localhost:8080/"
    },
    "executionInfo": {
     "elapsed": 8,
     "status": "ok",
     "timestamp": 1672270661829,
     "user": {
      "displayName": "Lionel Paz",
      "userId": "05738163298240521814"
     },
     "user_tz": 180
    },
    "id": "79cbd434",
    "outputId": "49593126-500a-4aee-da7d-4d990b55d6a4"
   },
   "outputs": [
    {
     "data": {
      "text/plain": [
       "(371528, 21)"
      ]
     },
     "execution_count": 5,
     "metadata": {},
     "output_type": "execute_result"
    }
   ],
   "source": [
    "autos.shape"
   ]
  },
  {
   "cell_type": "code",
   "execution_count": 6,
   "id": "995c920d",
   "metadata": {
    "colab": {
     "base_uri": "https://localhost:8080/",
     "height": 386
    },
    "executionInfo": {
     "elapsed": 281,
     "status": "ok",
     "timestamp": 1672270667097,
     "user": {
      "displayName": "Lionel Paz",
      "userId": "05738163298240521814"
     },
     "user_tz": 180
    },
    "id": "995c920d",
    "outputId": "1e182185-c519-4a31-850e-17a842b54591"
   },
   "outputs": [
    {
     "data": {
      "text/html": [
       "<div>\n",
       "<style scoped>\n",
       "    .dataframe tbody tr th:only-of-type {\n",
       "        vertical-align: middle;\n",
       "    }\n",
       "\n",
       "    .dataframe tbody tr th {\n",
       "        vertical-align: top;\n",
       "    }\n",
       "\n",
       "    .dataframe thead th {\n",
       "        text-align: right;\n",
       "    }\n",
       "</style>\n",
       "<table border=\"1\" class=\"dataframe\">\n",
       "  <thead>\n",
       "    <tr style=\"text-align: right;\">\n",
       "      <th></th>\n",
       "      <th>index</th>\n",
       "      <th>dateCrawled</th>\n",
       "      <th>name</th>\n",
       "      <th>seller</th>\n",
       "      <th>offerType</th>\n",
       "      <th>price</th>\n",
       "      <th>abtest</th>\n",
       "      <th>vehicleType</th>\n",
       "      <th>yearOfRegistration</th>\n",
       "      <th>gearbox</th>\n",
       "      <th>...</th>\n",
       "      <th>model</th>\n",
       "      <th>kilometer</th>\n",
       "      <th>monthOfRegistration</th>\n",
       "      <th>fuelType</th>\n",
       "      <th>brand</th>\n",
       "      <th>notRepairedDamage</th>\n",
       "      <th>dateCreated</th>\n",
       "      <th>nrOfPictures</th>\n",
       "      <th>postalCode</th>\n",
       "      <th>lastSeen</th>\n",
       "    </tr>\n",
       "  </thead>\n",
       "  <tbody>\n",
       "    <tr>\n",
       "      <th>0</th>\n",
       "      <td>0</td>\n",
       "      <td>2016-03-24 11:52:17</td>\n",
       "      <td>Golf_3_1.6</td>\n",
       "      <td>privat</td>\n",
       "      <td>Angebot</td>\n",
       "      <td>480</td>\n",
       "      <td>test</td>\n",
       "      <td>NaN</td>\n",
       "      <td>1993</td>\n",
       "      <td>manuell</td>\n",
       "      <td>...</td>\n",
       "      <td>golf</td>\n",
       "      <td>150000</td>\n",
       "      <td>0</td>\n",
       "      <td>benzin</td>\n",
       "      <td>volkswagen</td>\n",
       "      <td>NaN</td>\n",
       "      <td>2016-03-24 00:00:00</td>\n",
       "      <td>0</td>\n",
       "      <td>70435</td>\n",
       "      <td>2016-04-07 03:16:57</td>\n",
       "    </tr>\n",
       "    <tr>\n",
       "      <th>1</th>\n",
       "      <td>1</td>\n",
       "      <td>2016-03-24 10:58:45</td>\n",
       "      <td>A5_Sportback_2.7_Tdi</td>\n",
       "      <td>privat</td>\n",
       "      <td>Angebot</td>\n",
       "      <td>18300</td>\n",
       "      <td>test</td>\n",
       "      <td>coupe</td>\n",
       "      <td>2011</td>\n",
       "      <td>manuell</td>\n",
       "      <td>...</td>\n",
       "      <td>NaN</td>\n",
       "      <td>125000</td>\n",
       "      <td>5</td>\n",
       "      <td>diesel</td>\n",
       "      <td>audi</td>\n",
       "      <td>ja</td>\n",
       "      <td>2016-03-24 00:00:00</td>\n",
       "      <td>0</td>\n",
       "      <td>66954</td>\n",
       "      <td>2016-04-07 01:46:50</td>\n",
       "    </tr>\n",
       "    <tr>\n",
       "      <th>2</th>\n",
       "      <td>2</td>\n",
       "      <td>2016-03-14 12:52:21</td>\n",
       "      <td>Jeep_Grand_Cherokee_\"Overland\"</td>\n",
       "      <td>privat</td>\n",
       "      <td>Angebot</td>\n",
       "      <td>9800</td>\n",
       "      <td>test</td>\n",
       "      <td>suv</td>\n",
       "      <td>2004</td>\n",
       "      <td>automatik</td>\n",
       "      <td>...</td>\n",
       "      <td>grand</td>\n",
       "      <td>125000</td>\n",
       "      <td>8</td>\n",
       "      <td>diesel</td>\n",
       "      <td>jeep</td>\n",
       "      <td>NaN</td>\n",
       "      <td>2016-03-14 00:00:00</td>\n",
       "      <td>0</td>\n",
       "      <td>90480</td>\n",
       "      <td>2016-04-05 12:47:46</td>\n",
       "    </tr>\n",
       "    <tr>\n",
       "      <th>3</th>\n",
       "      <td>3</td>\n",
       "      <td>2016-03-17 16:54:04</td>\n",
       "      <td>GOLF_4_1_4__3TÜRER</td>\n",
       "      <td>privat</td>\n",
       "      <td>Angebot</td>\n",
       "      <td>1500</td>\n",
       "      <td>test</td>\n",
       "      <td>kleinwagen</td>\n",
       "      <td>2001</td>\n",
       "      <td>manuell</td>\n",
       "      <td>...</td>\n",
       "      <td>golf</td>\n",
       "      <td>150000</td>\n",
       "      <td>6</td>\n",
       "      <td>benzin</td>\n",
       "      <td>volkswagen</td>\n",
       "      <td>nein</td>\n",
       "      <td>2016-03-17 00:00:00</td>\n",
       "      <td>0</td>\n",
       "      <td>91074</td>\n",
       "      <td>2016-03-17 17:40:17</td>\n",
       "    </tr>\n",
       "    <tr>\n",
       "      <th>4</th>\n",
       "      <td>4</td>\n",
       "      <td>2016-03-31 17:25:20</td>\n",
       "      <td>Skoda_Fabia_1.4_TDI_PD_Classic</td>\n",
       "      <td>privat</td>\n",
       "      <td>Angebot</td>\n",
       "      <td>3600</td>\n",
       "      <td>test</td>\n",
       "      <td>kleinwagen</td>\n",
       "      <td>2008</td>\n",
       "      <td>manuell</td>\n",
       "      <td>...</td>\n",
       "      <td>fabia</td>\n",
       "      <td>90000</td>\n",
       "      <td>7</td>\n",
       "      <td>diesel</td>\n",
       "      <td>skoda</td>\n",
       "      <td>nein</td>\n",
       "      <td>2016-03-31 00:00:00</td>\n",
       "      <td>0</td>\n",
       "      <td>60437</td>\n",
       "      <td>2016-04-06 10:17:21</td>\n",
       "    </tr>\n",
       "  </tbody>\n",
       "</table>\n",
       "<p>5 rows × 21 columns</p>\n",
       "</div>"
      ],
      "text/plain": [
       "   index          dateCrawled                            name  seller  \\\n",
       "0      0  2016-03-24 11:52:17                      Golf_3_1.6  privat   \n",
       "1      1  2016-03-24 10:58:45            A5_Sportback_2.7_Tdi  privat   \n",
       "2      2  2016-03-14 12:52:21  Jeep_Grand_Cherokee_\"Overland\"  privat   \n",
       "3      3  2016-03-17 16:54:04              GOLF_4_1_4__3TÜRER  privat   \n",
       "4      4  2016-03-31 17:25:20  Skoda_Fabia_1.4_TDI_PD_Classic  privat   \n",
       "\n",
       "  offerType  price abtest vehicleType  yearOfRegistration    gearbox  ...  \\\n",
       "0   Angebot    480   test         NaN                1993    manuell  ...   \n",
       "1   Angebot  18300   test       coupe                2011    manuell  ...   \n",
       "2   Angebot   9800   test         suv                2004  automatik  ...   \n",
       "3   Angebot   1500   test  kleinwagen                2001    manuell  ...   \n",
       "4   Angebot   3600   test  kleinwagen                2008    manuell  ...   \n",
       "\n",
       "   model kilometer  monthOfRegistration  fuelType       brand  \\\n",
       "0   golf    150000                    0    benzin  volkswagen   \n",
       "1    NaN    125000                    5    diesel        audi   \n",
       "2  grand    125000                    8    diesel        jeep   \n",
       "3   golf    150000                    6    benzin  volkswagen   \n",
       "4  fabia     90000                    7    diesel       skoda   \n",
       "\n",
       "  notRepairedDamage          dateCreated nrOfPictures  postalCode  \\\n",
       "0               NaN  2016-03-24 00:00:00            0       70435   \n",
       "1                ja  2016-03-24 00:00:00            0       66954   \n",
       "2               NaN  2016-03-14 00:00:00            0       90480   \n",
       "3              nein  2016-03-17 00:00:00            0       91074   \n",
       "4              nein  2016-03-31 00:00:00            0       60437   \n",
       "\n",
       "              lastSeen  \n",
       "0  2016-04-07 03:16:57  \n",
       "1  2016-04-07 01:46:50  \n",
       "2  2016-04-05 12:47:46  \n",
       "3  2016-03-17 17:40:17  \n",
       "4  2016-04-06 10:17:21  \n",
       "\n",
       "[5 rows x 21 columns]"
      ]
     },
     "execution_count": 6,
     "metadata": {},
     "output_type": "execute_result"
    }
   ],
   "source": [
    "autos.head(5)"
   ]
  },
  {
   "cell_type": "code",
   "execution_count": 7,
   "id": "6481df6b",
   "metadata": {
    "id": "6481df6b",
    "outputId": "b884d1cb-25a3-4c3b-a408-749736db1af5"
   },
   "outputs": [
    {
     "data": {
      "text/plain": [
       "Index(['index', 'dateCrawled', 'name', 'seller', 'offerType', 'price',\n",
       "       'abtest', 'vehicleType', 'yearOfRegistration', 'gearbox', 'powerPS',\n",
       "       'model', 'kilometer', 'monthOfRegistration', 'fuelType', 'brand',\n",
       "       'notRepairedDamage', 'dateCreated', 'nrOfPictures', 'postalCode',\n",
       "       'lastSeen'],\n",
       "      dtype='object')"
      ]
     },
     "execution_count": 7,
     "metadata": {},
     "output_type": "execute_result"
    }
   ],
   "source": [
    "autos.columns"
   ]
  },
  {
   "cell_type": "markdown",
   "id": "7e418102",
   "metadata": {
    "id": "7e418102"
   },
   "source": [
    "# DATA SET NBA : VARIABLES PARA ANALIZAR"
   ]
  },
  {
   "cell_type": "markdown",
   "id": "c238ac8d",
   "metadata": {
    "id": "c238ac8d"
   },
   "source": [
    "Este conjunto de datos se puede utilizar para explorar cómo las tendencias de edad/altura/peso han cambiado con el tiempo debido a cambios en la filosofía del juego y las estrategias de desarrollo del jugador. Además, podría ser interesante ver cuán diversa geográficamente es la NBA y cómo los talentos de los supervisores la han influenciado. También se puede realizar un estudio longitudinal sobre los arcos de carrera de los jugadores."
   ]
  },
  {
   "cell_type": "code",
   "execution_count": 8,
   "id": "73095030",
   "metadata": {
    "id": "73095030",
    "outputId": "14c34402-7077-4432-a501-64910a5a7806"
   },
   "outputs": [
    {
     "data": {
      "text/plain": [
       "(12305, 22)"
      ]
     },
     "execution_count": 8,
     "metadata": {},
     "output_type": "execute_result"
    }
   ],
   "source": [
    "nba.shape"
   ]
  },
  {
   "cell_type": "code",
   "execution_count": 9,
   "id": "10252bd3",
   "metadata": {
    "id": "10252bd3",
    "outputId": "c15042cc-a842-456b-83bd-73e6724a836a"
   },
   "outputs": [
    {
     "data": {
      "text/html": [
       "<div>\n",
       "<style scoped>\n",
       "    .dataframe tbody tr th:only-of-type {\n",
       "        vertical-align: middle;\n",
       "    }\n",
       "\n",
       "    .dataframe tbody tr th {\n",
       "        vertical-align: top;\n",
       "    }\n",
       "\n",
       "    .dataframe thead th {\n",
       "        text-align: right;\n",
       "    }\n",
       "</style>\n",
       "<table border=\"1\" class=\"dataframe\">\n",
       "  <thead>\n",
       "    <tr style=\"text-align: right;\">\n",
       "      <th></th>\n",
       "      <th>Unnamed: 0</th>\n",
       "      <th>player_name</th>\n",
       "      <th>team_abbreviation</th>\n",
       "      <th>age</th>\n",
       "      <th>player_height</th>\n",
       "      <th>player_weight</th>\n",
       "      <th>college</th>\n",
       "      <th>country</th>\n",
       "      <th>draft_year</th>\n",
       "      <th>draft_round</th>\n",
       "      <th>...</th>\n",
       "      <th>pts</th>\n",
       "      <th>reb</th>\n",
       "      <th>ast</th>\n",
       "      <th>net_rating</th>\n",
       "      <th>oreb_pct</th>\n",
       "      <th>dreb_pct</th>\n",
       "      <th>usg_pct</th>\n",
       "      <th>ts_pct</th>\n",
       "      <th>ast_pct</th>\n",
       "      <th>season</th>\n",
       "    </tr>\n",
       "  </thead>\n",
       "  <tbody>\n",
       "    <tr>\n",
       "      <th>0</th>\n",
       "      <td>0</td>\n",
       "      <td>Dennis Rodman</td>\n",
       "      <td>CHI</td>\n",
       "      <td>36.0</td>\n",
       "      <td>198.12</td>\n",
       "      <td>99.790240</td>\n",
       "      <td>Southeastern Oklahoma State</td>\n",
       "      <td>USA</td>\n",
       "      <td>1986</td>\n",
       "      <td>2</td>\n",
       "      <td>...</td>\n",
       "      <td>5.7</td>\n",
       "      <td>16.1</td>\n",
       "      <td>3.1</td>\n",
       "      <td>16.1</td>\n",
       "      <td>0.186</td>\n",
       "      <td>0.323</td>\n",
       "      <td>0.100</td>\n",
       "      <td>0.479</td>\n",
       "      <td>0.113</td>\n",
       "      <td>1996-97</td>\n",
       "    </tr>\n",
       "    <tr>\n",
       "      <th>1</th>\n",
       "      <td>1</td>\n",
       "      <td>Dwayne Schintzius</td>\n",
       "      <td>LAC</td>\n",
       "      <td>28.0</td>\n",
       "      <td>215.90</td>\n",
       "      <td>117.933920</td>\n",
       "      <td>Florida</td>\n",
       "      <td>USA</td>\n",
       "      <td>1990</td>\n",
       "      <td>1</td>\n",
       "      <td>...</td>\n",
       "      <td>2.3</td>\n",
       "      <td>1.5</td>\n",
       "      <td>0.3</td>\n",
       "      <td>12.3</td>\n",
       "      <td>0.078</td>\n",
       "      <td>0.151</td>\n",
       "      <td>0.175</td>\n",
       "      <td>0.430</td>\n",
       "      <td>0.048</td>\n",
       "      <td>1996-97</td>\n",
       "    </tr>\n",
       "    <tr>\n",
       "      <th>2</th>\n",
       "      <td>2</td>\n",
       "      <td>Earl Cureton</td>\n",
       "      <td>TOR</td>\n",
       "      <td>39.0</td>\n",
       "      <td>205.74</td>\n",
       "      <td>95.254320</td>\n",
       "      <td>Detroit Mercy</td>\n",
       "      <td>USA</td>\n",
       "      <td>1979</td>\n",
       "      <td>3</td>\n",
       "      <td>...</td>\n",
       "      <td>0.8</td>\n",
       "      <td>1.0</td>\n",
       "      <td>0.4</td>\n",
       "      <td>-2.1</td>\n",
       "      <td>0.105</td>\n",
       "      <td>0.102</td>\n",
       "      <td>0.103</td>\n",
       "      <td>0.376</td>\n",
       "      <td>0.148</td>\n",
       "      <td>1996-97</td>\n",
       "    </tr>\n",
       "    <tr>\n",
       "      <th>3</th>\n",
       "      <td>3</td>\n",
       "      <td>Ed O'Bannon</td>\n",
       "      <td>DAL</td>\n",
       "      <td>24.0</td>\n",
       "      <td>203.20</td>\n",
       "      <td>100.697424</td>\n",
       "      <td>UCLA</td>\n",
       "      <td>USA</td>\n",
       "      <td>1995</td>\n",
       "      <td>1</td>\n",
       "      <td>...</td>\n",
       "      <td>3.7</td>\n",
       "      <td>2.3</td>\n",
       "      <td>0.6</td>\n",
       "      <td>-8.7</td>\n",
       "      <td>0.060</td>\n",
       "      <td>0.149</td>\n",
       "      <td>0.167</td>\n",
       "      <td>0.399</td>\n",
       "      <td>0.077</td>\n",
       "      <td>1996-97</td>\n",
       "    </tr>\n",
       "    <tr>\n",
       "      <th>4</th>\n",
       "      <td>4</td>\n",
       "      <td>Ed Pinckney</td>\n",
       "      <td>MIA</td>\n",
       "      <td>34.0</td>\n",
       "      <td>205.74</td>\n",
       "      <td>108.862080</td>\n",
       "      <td>Villanova</td>\n",
       "      <td>USA</td>\n",
       "      <td>1985</td>\n",
       "      <td>1</td>\n",
       "      <td>...</td>\n",
       "      <td>2.4</td>\n",
       "      <td>2.4</td>\n",
       "      <td>0.2</td>\n",
       "      <td>-11.2</td>\n",
       "      <td>0.109</td>\n",
       "      <td>0.179</td>\n",
       "      <td>0.127</td>\n",
       "      <td>0.611</td>\n",
       "      <td>0.040</td>\n",
       "      <td>1996-97</td>\n",
       "    </tr>\n",
       "  </tbody>\n",
       "</table>\n",
       "<p>5 rows × 22 columns</p>\n",
       "</div>"
      ],
      "text/plain": [
       "   Unnamed: 0        player_name team_abbreviation   age  player_height  \\\n",
       "0           0      Dennis Rodman               CHI  36.0         198.12   \n",
       "1           1  Dwayne Schintzius               LAC  28.0         215.90   \n",
       "2           2       Earl Cureton               TOR  39.0         205.74   \n",
       "3           3        Ed O'Bannon               DAL  24.0         203.20   \n",
       "4           4        Ed Pinckney               MIA  34.0         205.74   \n",
       "\n",
       "   player_weight                      college country draft_year draft_round  \\\n",
       "0      99.790240  Southeastern Oklahoma State     USA       1986           2   \n",
       "1     117.933920                      Florida     USA       1990           1   \n",
       "2      95.254320                Detroit Mercy     USA       1979           3   \n",
       "3     100.697424                         UCLA     USA       1995           1   \n",
       "4     108.862080                    Villanova     USA       1985           1   \n",
       "\n",
       "   ...  pts   reb  ast  net_rating  oreb_pct  dreb_pct  usg_pct  ts_pct  \\\n",
       "0  ...  5.7  16.1  3.1        16.1     0.186     0.323    0.100   0.479   \n",
       "1  ...  2.3   1.5  0.3        12.3     0.078     0.151    0.175   0.430   \n",
       "2  ...  0.8   1.0  0.4        -2.1     0.105     0.102    0.103   0.376   \n",
       "3  ...  3.7   2.3  0.6        -8.7     0.060     0.149    0.167   0.399   \n",
       "4  ...  2.4   2.4  0.2       -11.2     0.109     0.179    0.127   0.611   \n",
       "\n",
       "   ast_pct   season  \n",
       "0    0.113  1996-97  \n",
       "1    0.048  1996-97  \n",
       "2    0.148  1996-97  \n",
       "3    0.077  1996-97  \n",
       "4    0.040  1996-97  \n",
       "\n",
       "[5 rows x 22 columns]"
      ]
     },
     "execution_count": 9,
     "metadata": {},
     "output_type": "execute_result"
    }
   ],
   "source": [
    "nba.head(5)"
   ]
  },
  {
   "cell_type": "code",
   "execution_count": 10,
   "id": "6b27f82e",
   "metadata": {
    "id": "6b27f82e",
    "outputId": "06b1cff7-2790-495e-cc88-3ee19038870e"
   },
   "outputs": [
    {
     "data": {
      "text/plain": [
       "Index(['Unnamed: 0', 'player_name', 'team_abbreviation', 'age',\n",
       "       'player_height', 'player_weight', 'college', 'country', 'draft_year',\n",
       "       'draft_round', 'draft_number', 'gp', 'pts', 'reb', 'ast', 'net_rating',\n",
       "       'oreb_pct', 'dreb_pct', 'usg_pct', 'ts_pct', 'ast_pct', 'season'],\n",
       "      dtype='object')"
      ]
     },
     "execution_count": 10,
     "metadata": {},
     "output_type": "execute_result"
    }
   ],
   "source": [
    "nba.columns"
   ]
  },
  {
   "cell_type": "code",
   "execution_count": 11,
   "id": "c7bf1016",
   "metadata": {
    "colab": {
     "base_uri": "https://localhost:8080/",
     "height": 297
    },
    "executionInfo": {
     "elapsed": 959,
     "status": "ok",
     "timestamp": 1672270730190,
     "user": {
      "displayName": "Lionel Paz",
      "userId": "05738163298240521814"
     },
     "user_tz": 180
    },
    "id": "c7bf1016",
    "outputId": "4b8cc811-4caf-49e8-a113-d7eb7dc5fe6f"
   },
   "outputs": [
    {
     "data": {
      "text/plain": [
       "<AxesSubplot:xlabel='count', ylabel='age'>"
      ]
     },
     "execution_count": 11,
     "metadata": {},
     "output_type": "execute_result"
    },
    {
     "data": {
      "image/png": "[encoded data removed]",
      "text/plain": [
       "<Figure size 640x480 with 1 Axes>"
      ]
     },
     "metadata": {},
     "output_type": "display_data"
    }
   ],
   "source": [
    "sns.countplot(y='age', data=nba)"
   ]
  },
  {
   "cell_type": "markdown",
   "id": "1a5d9476",
   "metadata": {
    "id": "1a5d9476"
   },
   "source": [
    "# DATA SET POSTAL: VARIABLES PARA ANALIZAR"
   ]
  },
  {
   "cell_type": "markdown",
   "id": "8232a87b",
   "metadata": {
    "id": "8232a87b"
   },
   "source": [
    " Con este set de información se pueden detectar las tendencias, el comportamiento de los clientes o los errores en las operaciones, de esta forma poder introducir soluciones a los procesos e, incluso, detectar nuevos negocios de cara al futuro. Analizar y predecir la tendencia en los tiempos de entrega, volumen y potencial crecimiento. Con la columna fecha_hora, se puede detectar y predecir  el pico de volumen que ingresara por dia y hora. \n"
   ]
  },
  {
   "cell_type": "code",
   "execution_count": 12,
   "id": "adfa3bc4",
   "metadata": {
    "colab": {
     "base_uri": "https://localhost:8080/"
    },
    "executionInfo": {
     "elapsed": 265,
     "status": "ok",
     "timestamp": 1672271232088,
     "user": {
      "displayName": "Lionel Paz",
      "userId": "05738163298240521814"
     },
     "user_tz": 180
    },
    "id": "adfa3bc4",
    "outputId": "2405791b-a13d-41ad-85cd-0f66acff5113"
   },
   "outputs": [
    {
     "data": {
      "text/plain": [
       "(800187, 50)"
      ]
     },
     "execution_count": 12,
     "metadata": {},
     "output_type": "execute_result"
    }
   ],
   "source": [
    "postal.shape"
   ]
  },
  {
   "cell_type": "code",
   "execution_count": 13,
   "id": "32dad42f",
   "metadata": {
    "colab": {
     "base_uri": "https://localhost:8080/",
     "height": 386
    },
    "executionInfo": {
     "elapsed": 292,
     "status": "ok",
     "timestamp": 1672271233911,
     "user": {
      "displayName": "Lionel Paz",
      "userId": "05738163298240521814"
     },
     "user_tz": 180
    },
    "id": "32dad42f",
    "outputId": "41aa5ebf-d54a-47d3-cab5-b90c9500ad9b"
   },
   "outputs": [
    {
     "data": {
      "text/html": [
       "<div>\n",
       "<style scoped>\n",
       "    .dataframe tbody tr th:only-of-type {\n",
       "        vertical-align: middle;\n",
       "    }\n",
       "\n",
       "    .dataframe tbody tr th {\n",
       "        vertical-align: top;\n",
       "    }\n",
       "\n",
       "    .dataframe thead th {\n",
       "        text-align: right;\n",
       "    }\n",
       "</style>\n",
       "<table border=\"1\" class=\"dataframe\">\n",
       "  <thead>\n",
       "    <tr style=\"text-align: right;\">\n",
       "      <th></th>\n",
       "      <th>id</th>\n",
       "      <th>cliente_id</th>\n",
       "      <th>tipo_operacion</th>\n",
       "      <th>tipo_operacion_nombre</th>\n",
       "      <th>colectora</th>\n",
       "      <th>fecha_hora</th>\n",
       "      <th>fechaplanilla</th>\n",
       "      <th>fecharendicion</th>\n",
       "      <th>fecha_hora_entrega</th>\n",
       "      <th>fechaUltimoEstado</th>\n",
       "      <th>...</th>\n",
       "      <th>origen_longitud</th>\n",
       "      <th>origen_zona</th>\n",
       "      <th>origen_region</th>\n",
       "      <th>destino_cp</th>\n",
       "      <th>destino_localidad</th>\n",
       "      <th>destino_provincia</th>\n",
       "      <th>destino_latitud</th>\n",
       "      <th>destino_longitud</th>\n",
       "      <th>destino_zona</th>\n",
       "      <th>destino_region</th>\n",
       "    </tr>\n",
       "  </thead>\n",
       "  <tbody>\n",
       "    <tr>\n",
       "      <th>0</th>\n",
       "      <td>1408212</td>\n",
       "      <td>565</td>\n",
       "      <td>ENTREGA PAQUETERIA</td>\n",
       "      <td>ENTREGA</td>\n",
       "      <td>1.0</td>\n",
       "      <td>5/4/2021 14:49</td>\n",
       "      <td>5/4/2021</td>\n",
       "      <td>NaN</td>\n",
       "      <td>NaN</td>\n",
       "      <td>6/4/2021 11:22</td>\n",
       "      <td>...</td>\n",
       "      <td>-60,55883198</td>\n",
       "      <td>AMBA</td>\n",
       "      <td>CABA</td>\n",
       "      <td>1000</td>\n",
       "      <td>CAPITAL FEDERAL</td>\n",
       "      <td>BUENOS AIRES</td>\n",
       "      <td>-36,67694152</td>\n",
       "      <td>-60,55883198</td>\n",
       "      <td>AMBA</td>\n",
       "      <td>CABA</td>\n",
       "    </tr>\n",
       "    <tr>\n",
       "      <th>1</th>\n",
       "      <td>1408217</td>\n",
       "      <td>565</td>\n",
       "      <td>ENTREGA PAQUETERIA</td>\n",
       "      <td>ENTREGA</td>\n",
       "      <td>1.0</td>\n",
       "      <td>5/4/2021 14:51</td>\n",
       "      <td>5/4/2021</td>\n",
       "      <td>NaN</td>\n",
       "      <td>NaN</td>\n",
       "      <td>6/4/2021 11:22</td>\n",
       "      <td>...</td>\n",
       "      <td>-60,55883198</td>\n",
       "      <td>AMBA</td>\n",
       "      <td>CABA</td>\n",
       "      <td>1000</td>\n",
       "      <td>CAPITAL FEDERAL</td>\n",
       "      <td>BUENOS AIRES</td>\n",
       "      <td>-36,67694152</td>\n",
       "      <td>-60,55883198</td>\n",
       "      <td>AMBA</td>\n",
       "      <td>CABA</td>\n",
       "    </tr>\n",
       "    <tr>\n",
       "      <th>2</th>\n",
       "      <td>1408232</td>\n",
       "      <td>565</td>\n",
       "      <td>ENTREGA PAQUETERIA</td>\n",
       "      <td>ENTREGA</td>\n",
       "      <td>1.0</td>\n",
       "      <td>5/4/2021 14:54</td>\n",
       "      <td>5/4/2021</td>\n",
       "      <td>NaN</td>\n",
       "      <td>NaN</td>\n",
       "      <td>6/4/2021 11:22</td>\n",
       "      <td>...</td>\n",
       "      <td>-60,55883198</td>\n",
       "      <td>AMBA</td>\n",
       "      <td>CABA</td>\n",
       "      <td>1000</td>\n",
       "      <td>CAPITAL FEDERAL</td>\n",
       "      <td>BUENOS AIRES</td>\n",
       "      <td>-36,67694152</td>\n",
       "      <td>-60,55883198</td>\n",
       "      <td>AMBA</td>\n",
       "      <td>CABA</td>\n",
       "    </tr>\n",
       "    <tr>\n",
       "      <th>3</th>\n",
       "      <td>1425018</td>\n",
       "      <td>674</td>\n",
       "      <td>ENTREGA PAQUETERIA</td>\n",
       "      <td>ENTREGA</td>\n",
       "      <td>1.0</td>\n",
       "      <td>12/4/2021 17:43</td>\n",
       "      <td>19/4/2021</td>\n",
       "      <td>NaN</td>\n",
       "      <td>19/4/2021 17:41</td>\n",
       "      <td>28/4/2021 17:43</td>\n",
       "      <td>...</td>\n",
       "      <td>-60,55883198</td>\n",
       "      <td>AMBA</td>\n",
       "      <td>CABA</td>\n",
       "      <td>1000</td>\n",
       "      <td>CAPITAL FEDERAL</td>\n",
       "      <td>BUENOS AIRES</td>\n",
       "      <td>-36,67694152</td>\n",
       "      <td>-60,55883198</td>\n",
       "      <td>AMBA</td>\n",
       "      <td>CABA</td>\n",
       "    </tr>\n",
       "    <tr>\n",
       "      <th>4</th>\n",
       "      <td>1474460</td>\n",
       "      <td>672</td>\n",
       "      <td>ENTREGA PAQUETERIA</td>\n",
       "      <td>ENTREGA</td>\n",
       "      <td>1.0</td>\n",
       "      <td>29/4/2021 19:06</td>\n",
       "      <td>30/4/2021</td>\n",
       "      <td>10/5/2021</td>\n",
       "      <td>30/4/2021 16:32</td>\n",
       "      <td>30/4/2021 12:37</td>\n",
       "      <td>...</td>\n",
       "      <td>-60,55883198</td>\n",
       "      <td>AMBA</td>\n",
       "      <td>CABA</td>\n",
       "      <td>1000</td>\n",
       "      <td>CAPITAL FEDERAL</td>\n",
       "      <td>BUENOS AIRES</td>\n",
       "      <td>-36,67694152</td>\n",
       "      <td>-60,55883198</td>\n",
       "      <td>AMBA</td>\n",
       "      <td>CABA</td>\n",
       "    </tr>\n",
       "  </tbody>\n",
       "</table>\n",
       "<p>5 rows × 50 columns</p>\n",
       "</div>"
      ],
      "text/plain": [
       "        id  cliente_id      tipo_operacion tipo_operacion_nombre  colectora  \\\n",
       "0  1408212         565  ENTREGA PAQUETERIA               ENTREGA        1.0   \n",
       "1  1408217         565  ENTREGA PAQUETERIA               ENTREGA        1.0   \n",
       "2  1408232         565  ENTREGA PAQUETERIA               ENTREGA        1.0   \n",
       "3  1425018         674  ENTREGA PAQUETERIA               ENTREGA        1.0   \n",
       "4  1474460         672  ENTREGA PAQUETERIA               ENTREGA        1.0   \n",
       "\n",
       "        fecha_hora fechaplanilla fecharendicion fecha_hora_entrega  \\\n",
       "0   5/4/2021 14:49      5/4/2021            NaN                NaN   \n",
       "1   5/4/2021 14:51      5/4/2021            NaN                NaN   \n",
       "2   5/4/2021 14:54      5/4/2021            NaN                NaN   \n",
       "3  12/4/2021 17:43     19/4/2021            NaN    19/4/2021 17:41   \n",
       "4  29/4/2021 19:06     30/4/2021      10/5/2021    30/4/2021 16:32   \n",
       "\n",
       "  fechaUltimoEstado  ... origen_longitud origen_zona origen_region destino_cp  \\\n",
       "0    6/4/2021 11:22  ...    -60,55883198        AMBA          CABA       1000   \n",
       "1    6/4/2021 11:22  ...    -60,55883198        AMBA          CABA       1000   \n",
       "2    6/4/2021 11:22  ...    -60,55883198        AMBA          CABA       1000   \n",
       "3   28/4/2021 17:43  ...    -60,55883198        AMBA          CABA       1000   \n",
       "4   30/4/2021 12:37  ...    -60,55883198        AMBA          CABA       1000   \n",
       "\n",
       "  destino_localidad destino_provincia destino_latitud  destino_longitud  \\\n",
       "0   CAPITAL FEDERAL      BUENOS AIRES    -36,67694152      -60,55883198   \n",
       "1   CAPITAL FEDERAL      BUENOS AIRES    -36,67694152      -60,55883198   \n",
       "2   CAPITAL FEDERAL      BUENOS AIRES    -36,67694152      -60,55883198   \n",
       "3   CAPITAL FEDERAL      BUENOS AIRES    -36,67694152      -60,55883198   \n",
       "4   CAPITAL FEDERAL      BUENOS AIRES    -36,67694152      -60,55883198   \n",
       "\n",
       "  destino_zona destino_region  \n",
       "0         AMBA           CABA  \n",
       "1         AMBA           CABA  \n",
       "2         AMBA           CABA  \n",
       "3         AMBA           CABA  \n",
       "4         AMBA           CABA  \n",
       "\n",
       "[5 rows x 50 columns]"
      ]
     },
     "execution_count": 13,
     "metadata": {},
     "output_type": "execute_result"
    }
   ],
   "source": [
    "postal.head(5)"
   ]
  },
  {
   "cell_type": "code",
   "execution_count": 14,
   "id": "32707fdf",
   "metadata": {
    "colab": {
     "base_uri": "https://localhost:8080/"
    },
    "executionInfo": {
     "elapsed": 255,
     "status": "ok",
     "timestamp": 1672271229023,
     "user": {
      "displayName": "Lionel Paz",
      "userId": "05738163298240521814"
     },
     "user_tz": 180
    },
    "id": "32707fdf",
    "outputId": "7f29999e-7e8b-4bc2-b208-ef357c2365b1"
   },
   "outputs": [
    {
     "data": {
      "text/plain": [
       "Index(['id', 'cliente_id', 'tipo_operacion', 'tipo_operacion_nombre',\n",
       "       'colectora', 'fecha_hora', 'fechaplanilla', 'fecharendicion',\n",
       "       'fecha_hora_entrega', 'fechaUltimoEstado', 'fecha_ultimo_estado',\n",
       "       'servicio_codigo', 'servicio', 'grupo', 'codigo_estado', 'estado',\n",
       "       'peso', 'bultos', 'bulto_por_peso_final', 'peso_volumetrico',\n",
       "       'kg_exceso', 'precio', 'costo_distribuidor', 'costo_interno',\n",
       "       'costo_transporte', 'costo_despacho_a_expreso',\n",
       "       'costo_servicio_retorno', 'costo_por_monitoreo_activo',\n",
       "       'costo_adicional1', 'costo_adicional2', 'costo_adicional3',\n",
       "       'totalFlete', 'importe_urgente', 'importe_exceso', 'is_foto',\n",
       "       'is_firma', 'origen_cp', 'origen_localidad', 'origen_provincia',\n",
       "       'origen_latitud', 'origen_longitud', 'origen_zona', 'origen_region',\n",
       "       'destino_cp', 'destino_localidad', 'destino_provincia',\n",
       "       'destino_latitud', 'destino_longitud', 'destino_zona',\n",
       "       'destino_region'],\n",
       "      dtype='object')"
      ]
     },
     "execution_count": 14,
     "metadata": {},
     "output_type": "execute_result"
    }
   ],
   "source": [
    "postal.columns"
   ]
  },
  {
   "cell_type": "code",
   "execution_count": 15,
   "id": "c36cf2a0",
   "metadata": {
    "id": "c36cf2a0"
   },
   "outputs": [],
   "source": [
    "postal['destino_provincia']= postal['destino_provincia'].replace([\"Buenos Aires\"], [\"BUENOS AIRES\"])\n",
    "#modifico lo mal escrito"
   ]
  },
  {
   "cell_type": "code",
   "execution_count": 16,
   "id": "1831f77a",
   "metadata": {
    "colab": {
     "base_uri": "https://localhost:8080/",
     "height": 297
    },
    "executionInfo": {
     "elapsed": 609,
     "status": "ok",
     "timestamp": 1672271101205,
     "user": {
      "displayName": "Lionel Paz",
      "userId": "05738163298240521814"
     },
     "user_tz": 180
    },
    "id": "1831f77a",
    "outputId": "79d79d0a-d7e8-4805-be2b-b78c24242989"
   },
   "outputs": [
    {
     "data": {
      "text/plain": [
       "<AxesSubplot:xlabel='count', ylabel='destino_provincia'>"
      ]
     },
     "execution_count": 16,
     "metadata": {},
     "output_type": "execute_result"
    },
    {
     "data": {
      "image/png": "[encoded data removed]",
      "text/plain": [
       "<Figure size 640x480 with 1 Axes>"
      ]
     },
     "metadata": {},
     "output_type": "display_data"
    }
   ],
   "source": [
    "sns.countplot(y='destino_provincia', data=postal)"
   ]
  }
 ],
 "metadata": {
  "colab": {
   "provenance": []
  },
  "kernelspec": {
   "display_name": "Python 3 (ipykernel)",
   "language": "python",
   "name": "python3"
  },
  "language_info": {
   "codemirror_mode": {
    "name": "ipython",
    "version": 3
   },
   "file_extension": ".py",
   "mimetype": "text/x-python",
   "name": "python",
   "nbconvert_exporter": "python",
   "pygments_lexer": "ipython3",
   "version": "3.9.13"
  }
 },
 "nbformat": 4,
 "nbformat_minor": 5
}
